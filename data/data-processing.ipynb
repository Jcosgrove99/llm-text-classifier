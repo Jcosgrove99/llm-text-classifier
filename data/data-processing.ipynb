{
 "cells": [
  {
   "cell_type": "code",
   "execution_count": 5,
   "metadata": {},
   "outputs": [
    {
     "name": "stdout",
     "output_type": "stream",
     "text": [
      "                 user                                               text  \\\n",
      "0         manny_rosen   @sanofi please tell us how many shares the Cr...   \n",
      "1           osi_abdul   https://t.co/atM98CpqF7  Like, comment, RT #P...   \n",
      "2             Patsyrw   Your AG Barr is as useless &amp; corrupt as y...   \n",
      "3     seyedebrahimi_m   Mr. Trump! Wake Up!  Most of the comments bel...   \n",
      "4       James09254677   After 4 years you think you would have figure...   \n",
      "...               ...                                                ...   \n",
      "5323        meryn1977  @JoeBiden You'll just try to calm those waters...   \n",
      "5324      BSNelson114  @JoeBiden 96 days 96 dias #VoteJoeBiden2020  #...   \n",
      "5325         KenCapel  @JoeBiden YOU THINK YOU CAN DO THAT??? YOU CAN...   \n",
      "5326       LeslyeHale  @JoeBiden Trump wants our children back at sch...   \n",
      "5327         rerickre  @JoeBiden ... and I know, because it’s much co...   \n",
      "\n",
      "     canidate  \n",
      "0       trump  \n",
      "1       trump  \n",
      "2       trump  \n",
      "3       trump  \n",
      "4       trump  \n",
      "...       ...  \n",
      "5323    biden  \n",
      "5324    biden  \n",
      "5325    biden  \n",
      "5326    biden  \n",
      "5327    biden  \n",
      "\n",
      "[5328 rows x 3 columns]\n"
     ]
    }
   ],
   "source": [
    "import pandas as pd\n",
    "trump = pd.read_csv('data/Trumpall2.csv')\n",
    "biden = pd.read_csv('data/Bidenall2.csv')\n",
    "trump['canidate'] = \"trump\"\n",
    "biden['canidate'] = \"biden\"\n",
    "combined = pd.concat([trump, biden], axis=0, ignore_index=True)\n",
    "print(combined)"
   ]
  },
  {
   "cell_type": "code",
   "execution_count": 6,
   "metadata": {},
   "outputs": [
    {
     "name": "stdout",
     "output_type": "stream",
     "text": [
      "Dataframe has been saved to 'data/combined_tweets.csv'\n"
     ]
    }
   ],
   "source": [
    "# Save the combined dataframe to a CSV file\n",
    "combined.to_csv('data/combined_tweets.csv', index=False)\n",
    "print(\"Dataframe has been saved to 'data/combined_tweets.csv'\")"
   ]
  },
  {
   "cell_type": "code",
   "execution_count": null,
   "metadata": {},
   "outputs": [],
   "source": []
  }
 ],
 "metadata": {
  "kernelspec": {
   "display_name": "Python 3",
   "language": "python",
   "name": "python3"
  },
  "language_info": {
   "codemirror_mode": {
    "name": "ipython",
    "version": 3
   },
   "file_extension": ".py",
   "mimetype": "text/x-python",
   "name": "python",
   "nbconvert_exporter": "python",
   "pygments_lexer": "ipython3",
   "version": "3.12.3"
  }
 },
 "nbformat": 4,
 "nbformat_minor": 2
}
